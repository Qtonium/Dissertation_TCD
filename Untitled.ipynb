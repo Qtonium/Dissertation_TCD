{
 "cells": [
  {
   "cell_type": "code",
   "execution_count": 1,
   "id": "2f5112fb",
   "metadata": {},
   "outputs": [],
   "source": [
    "import pandas as pd\n",
    "import numpy as np\n",
    "from statsmodels.genmod.generalized_linear_model import GLM\n",
    "from statsmodels.genmod.families import Binomial\n",
    "from statsmodels.genmod.families.links import logit\n",
    "from statsmodels.regression.linear_model import WLS\n",
    "\n",
    "data = {\n",
    "    'X': ['A', 'A', 'A', 'B', 'B', 'B', 'C', 'C', 'C'],\n",
    "    'Y': ['1', '1', '1', '2', '2', '2', '3', '3', '3'],\n",
    "    'Ri': ['1', '0', '0', '1', '1', '1', '1', '1', '0'],\n",
    "}\n",
    "df = pd.DataFrame(data)\n",
    "df['X'] = df['X'].astype('category').cat.codes\n",
    "df['Y'] = df['Y'].astype(int)\n",
    "df['Ri'] = df['Ri'].astype(int)\n"
   ]
  },
  {
   "cell_type": "code",
   "execution_count": 2,
   "id": "90aa8158",
   "metadata": {},
   "outputs": [
    {
     "name": "stderr",
     "output_type": "stream",
     "text": [
      "/Users/ilovemarijuana/miniconda3/envs/diss/lib/python3.11/site-packages/statsmodels/genmod/families/links.py:13: FutureWarning: The logit link alias is deprecated. Use Logit instead. The logit link alias will be removed after the 0.15.0 release.\n",
      "  warnings.warn(\n"
     ]
    }
   ],
   "source": [
    "log_reg_model = GLM(df['Ri'], df[['X', 'Y']], family=Binomial(link=logit()))\n",
    "log_reg_results = log_reg_model.fit()\n",
    "\n",
    "df['pi'] = log_reg_results.predict(df[['X', 'Y']])\n"
   ]
  },
  {
   "cell_type": "code",
   "execution_count": 3,
   "id": "0411ff6d",
   "metadata": {},
   "outputs": [],
   "source": [
    "wls_model = WLS(df.loc[df['Ri'] == 1, 'Y'], np.ones(sum(df['Ri'] == 1)), weights=1/df.loc[df['Ri'] == 1, 'pi'])\n",
    "wls_results = wls_model.fit()\n",
    "\n",
    "l_IPW = wls_results.params[0]\n"
   ]
  },
  {
   "cell_type": "code",
   "execution_count": 4,
   "id": "907b523f",
   "metadata": {},
   "outputs": [
    {
     "data": {
      "text/plain": [
       "2.0441904727783653"
      ]
     },
     "execution_count": 4,
     "metadata": {},
     "output_type": "execute_result"
    }
   ],
   "source": [
    "l_IPW"
   ]
  },
  {
   "cell_type": "code",
   "execution_count": 5,
   "id": "0ac23a60",
   "metadata": {},
   "outputs": [
    {
     "data": {
      "text/html": [
       "<div>\n",
       "<style scoped>\n",
       "    .dataframe tbody tr th:only-of-type {\n",
       "        vertical-align: middle;\n",
       "    }\n",
       "\n",
       "    .dataframe tbody tr th {\n",
       "        vertical-align: top;\n",
       "    }\n",
       "\n",
       "    .dataframe thead th {\n",
       "        text-align: right;\n",
       "    }\n",
       "</style>\n",
       "<table border=\"1\" class=\"dataframe\">\n",
       "  <thead>\n",
       "    <tr style=\"text-align: right;\">\n",
       "      <th></th>\n",
       "      <th>X</th>\n",
       "      <th>Y</th>\n",
       "      <th>Ri</th>\n",
       "      <th>pi</th>\n",
       "    </tr>\n",
       "  </thead>\n",
       "  <tbody>\n",
       "    <tr>\n",
       "      <th>0</th>\n",
       "      <td>0</td>\n",
       "      <td>1</td>\n",
       "      <td>1</td>\n",
       "      <td>0.492381</td>\n",
       "    </tr>\n",
       "    <tr>\n",
       "      <th>1</th>\n",
       "      <td>0</td>\n",
       "      <td>1</td>\n",
       "      <td>0</td>\n",
       "      <td>0.492381</td>\n",
       "    </tr>\n",
       "    <tr>\n",
       "      <th>2</th>\n",
       "      <td>0</td>\n",
       "      <td>1</td>\n",
       "      <td>0</td>\n",
       "      <td>0.492381</td>\n",
       "    </tr>\n",
       "    <tr>\n",
       "      <th>3</th>\n",
       "      <td>1</td>\n",
       "      <td>2</td>\n",
       "      <td>1</td>\n",
       "      <td>0.681904</td>\n",
       "    </tr>\n",
       "    <tr>\n",
       "      <th>4</th>\n",
       "      <td>1</td>\n",
       "      <td>2</td>\n",
       "      <td>1</td>\n",
       "      <td>0.681904</td>\n",
       "    </tr>\n",
       "    <tr>\n",
       "      <th>5</th>\n",
       "      <td>1</td>\n",
       "      <td>2</td>\n",
       "      <td>1</td>\n",
       "      <td>0.681904</td>\n",
       "    </tr>\n",
       "    <tr>\n",
       "      <th>6</th>\n",
       "      <td>2</td>\n",
       "      <td>3</td>\n",
       "      <td>1</td>\n",
       "      <td>0.825714</td>\n",
       "    </tr>\n",
       "    <tr>\n",
       "      <th>7</th>\n",
       "      <td>2</td>\n",
       "      <td>3</td>\n",
       "      <td>1</td>\n",
       "      <td>0.825714</td>\n",
       "    </tr>\n",
       "    <tr>\n",
       "      <th>8</th>\n",
       "      <td>2</td>\n",
       "      <td>3</td>\n",
       "      <td>0</td>\n",
       "      <td>0.825714</td>\n",
       "    </tr>\n",
       "  </tbody>\n",
       "</table>\n",
       "</div>"
      ],
      "text/plain": [
       "   X  Y  Ri        pi\n",
       "0  0  1   1  0.492381\n",
       "1  0  1   0  0.492381\n",
       "2  0  1   0  0.492381\n",
       "3  1  2   1  0.681904\n",
       "4  1  2   1  0.681904\n",
       "5  1  2   1  0.681904\n",
       "6  2  3   1  0.825714\n",
       "7  2  3   1  0.825714\n",
       "8  2  3   0  0.825714"
      ]
     },
     "execution_count": 5,
     "metadata": {},
     "output_type": "execute_result"
    }
   ],
   "source": [
    "df"
   ]
  },
  {
   "cell_type": "code",
   "execution_count": null,
   "id": "71a35e8b",
   "metadata": {},
   "outputs": [],
   "source": []
  }
 ],
 "metadata": {
  "kernelspec": {
   "display_name": "Python 3 (ipykernel)",
   "language": "python",
   "name": "python3"
  },
  "language_info": {
   "codemirror_mode": {
    "name": "ipython",
    "version": 3
   },
   "file_extension": ".py",
   "mimetype": "text/x-python",
   "name": "python",
   "nbconvert_exporter": "python",
   "pygments_lexer": "ipython3",
   "version": "3.11.3"
  }
 },
 "nbformat": 4,
 "nbformat_minor": 5
}
