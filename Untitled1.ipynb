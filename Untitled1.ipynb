{
 "cells": [
  {
   "cell_type": "code",
   "execution_count": 1,
   "id": "611a11ee",
   "metadata": {},
   "outputs": [
    {
     "name": "stdout",
     "output_type": "stream",
     "text": [
      "   X  Y  Ri        pi  Ri/pi\n",
      "0  A  1   1  0.333333    3.0\n",
      "1  A  1   0  0.333333    0.0\n",
      "2  A  1   0  0.333333    0.0\n",
      "3  B  2   1  1.000000    1.0\n",
      "4  B  2   1  1.000000    1.0\n",
      "5  B  2   1  1.000000    1.0\n",
      "6  C  3   1  0.666667    1.5\n",
      "7  C  3   1  0.666667    1.5\n",
      "8  C  3   0  0.666667    0.0\n"
     ]
    }
   ],
   "source": [
    "import pandas as pd\n",
    "import numpy as np\n",
    "import statsmodels.api as sm\n",
    "\n",
    "# input data\n",
    "data = {\n",
    "    'X': ['A', 'A', 'A', 'B', 'B', 'B', 'C', 'C', 'C'],\n",
    "    'Y': ['1', '1', '1', '2', '2', '2', '3', '3', '3'],\n",
    "    'Ri': ['1', '0', '0', '1', '1', '1', '1', '1', '0'],\n",
    "}\n",
    "\n",
    "df = pd.DataFrame(data)\n",
    "\n",
    "# Converting 'Ri' to numeric type\n",
    "df['Ri'] = pd.to_numeric(df['Ri'])\n",
    "\n",
    "# Calculating pi values\n",
    "df['pi'] = df.groupby('X')['Ri'].transform('mean')\n",
    "df['Ri/pi'] = df['Ri']/df['pi']\n",
    "\n",
    "print(df)\n",
    "\n"
   ]
  },
  {
   "cell_type": "code",
   "execution_count": 2,
   "id": "6631e799",
   "metadata": {},
   "outputs": [],
   "source": [
    "df['Y'] = pd.to_numeric(df['Y'])\n",
    "df[\"X\"] = df[\"X\"].astype('category')\n",
    "df[\"X\"] = df[\"X\"].cat.codes"
   ]
  },
  {
   "cell_type": "code",
   "execution_count": 3,
   "id": "52b7f70d",
   "metadata": {},
   "outputs": [],
   "source": [
    "weights = df['Ri/pi']"
   ]
  },
  {
   "cell_type": "code",
   "execution_count": 4,
   "id": "b94a0e14",
   "metadata": {},
   "outputs": [],
   "source": [
    "df['weights'] = weights"
   ]
  },
  {
   "cell_type": "code",
   "execution_count": 5,
   "id": "4ac40824",
   "metadata": {},
   "outputs": [],
   "source": [
    "l_IPW = np.average(df['Y'], weights=weights)"
   ]
  },
  {
   "cell_type": "code",
   "execution_count": 6,
   "id": "498a3ab3",
   "metadata": {},
   "outputs": [
    {
     "data": {
      "text/html": [
       "<div>\n",
       "<style scoped>\n",
       "    .dataframe tbody tr th:only-of-type {\n",
       "        vertical-align: middle;\n",
       "    }\n",
       "\n",
       "    .dataframe tbody tr th {\n",
       "        vertical-align: top;\n",
       "    }\n",
       "\n",
       "    .dataframe thead th {\n",
       "        text-align: right;\n",
       "    }\n",
       "</style>\n",
       "<table border=\"1\" class=\"dataframe\">\n",
       "  <thead>\n",
       "    <tr style=\"text-align: right;\">\n",
       "      <th></th>\n",
       "      <th>X</th>\n",
       "      <th>Y</th>\n",
       "      <th>Ri</th>\n",
       "      <th>pi</th>\n",
       "      <th>Ri/pi</th>\n",
       "      <th>weights</th>\n",
       "    </tr>\n",
       "  </thead>\n",
       "  <tbody>\n",
       "    <tr>\n",
       "      <th>0</th>\n",
       "      <td>0</td>\n",
       "      <td>1</td>\n",
       "      <td>1</td>\n",
       "      <td>0.333333</td>\n",
       "      <td>3.0</td>\n",
       "      <td>3.0</td>\n",
       "    </tr>\n",
       "    <tr>\n",
       "      <th>1</th>\n",
       "      <td>0</td>\n",
       "      <td>1</td>\n",
       "      <td>0</td>\n",
       "      <td>0.333333</td>\n",
       "      <td>0.0</td>\n",
       "      <td>0.0</td>\n",
       "    </tr>\n",
       "    <tr>\n",
       "      <th>2</th>\n",
       "      <td>0</td>\n",
       "      <td>1</td>\n",
       "      <td>0</td>\n",
       "      <td>0.333333</td>\n",
       "      <td>0.0</td>\n",
       "      <td>0.0</td>\n",
       "    </tr>\n",
       "    <tr>\n",
       "      <th>3</th>\n",
       "      <td>1</td>\n",
       "      <td>2</td>\n",
       "      <td>1</td>\n",
       "      <td>1.000000</td>\n",
       "      <td>1.0</td>\n",
       "      <td>1.0</td>\n",
       "    </tr>\n",
       "    <tr>\n",
       "      <th>4</th>\n",
       "      <td>1</td>\n",
       "      <td>2</td>\n",
       "      <td>1</td>\n",
       "      <td>1.000000</td>\n",
       "      <td>1.0</td>\n",
       "      <td>1.0</td>\n",
       "    </tr>\n",
       "    <tr>\n",
       "      <th>5</th>\n",
       "      <td>1</td>\n",
       "      <td>2</td>\n",
       "      <td>1</td>\n",
       "      <td>1.000000</td>\n",
       "      <td>1.0</td>\n",
       "      <td>1.0</td>\n",
       "    </tr>\n",
       "    <tr>\n",
       "      <th>6</th>\n",
       "      <td>2</td>\n",
       "      <td>3</td>\n",
       "      <td>1</td>\n",
       "      <td>0.666667</td>\n",
       "      <td>1.5</td>\n",
       "      <td>1.5</td>\n",
       "    </tr>\n",
       "    <tr>\n",
       "      <th>7</th>\n",
       "      <td>2</td>\n",
       "      <td>3</td>\n",
       "      <td>1</td>\n",
       "      <td>0.666667</td>\n",
       "      <td>1.5</td>\n",
       "      <td>1.5</td>\n",
       "    </tr>\n",
       "    <tr>\n",
       "      <th>8</th>\n",
       "      <td>2</td>\n",
       "      <td>3</td>\n",
       "      <td>0</td>\n",
       "      <td>0.666667</td>\n",
       "      <td>0.0</td>\n",
       "      <td>0.0</td>\n",
       "    </tr>\n",
       "  </tbody>\n",
       "</table>\n",
       "</div>"
      ],
      "text/plain": [
       "   X  Y  Ri        pi  Ri/pi  weights\n",
       "0  0  1   1  0.333333    3.0      3.0\n",
       "1  0  1   0  0.333333    0.0      0.0\n",
       "2  0  1   0  0.333333    0.0      0.0\n",
       "3  1  2   1  1.000000    1.0      1.0\n",
       "4  1  2   1  1.000000    1.0      1.0\n",
       "5  1  2   1  1.000000    1.0      1.0\n",
       "6  2  3   1  0.666667    1.5      1.5\n",
       "7  2  3   1  0.666667    1.5      1.5\n",
       "8  2  3   0  0.666667    0.0      0.0"
      ]
     },
     "execution_count": 6,
     "metadata": {},
     "output_type": "execute_result"
    }
   ],
   "source": [
    "df"
   ]
  },
  {
   "cell_type": "code",
   "execution_count": 7,
   "id": "1558460c",
   "metadata": {},
   "outputs": [
    {
     "data": {
      "text/plain": [
       "2.0"
      ]
     },
     "execution_count": 7,
     "metadata": {},
     "output_type": "execute_result"
    }
   ],
   "source": [
    "l_IPW"
   ]
  },
  {
   "cell_type": "code",
   "execution_count": 8,
   "id": "a686c945",
   "metadata": {},
   "outputs": [],
   "source": [
    "weighted_mean_A = df.loc[df['X'] == 0, 'weights'].mean()\n",
    "weighted_mean_B = df.loc[df['X'] == 1, 'weights'].mean()\n",
    "weighted_mean_C = df.loc[df['X'] == 2, 'weights'].mean()"
   ]
  },
  {
   "cell_type": "code",
   "execution_count": 9,
   "id": "da09af34",
   "metadata": {},
   "outputs": [
    {
     "name": "stdout",
     "output_type": "stream",
     "text": [
      "1.0 1.0 1.0\n"
     ]
    }
   ],
   "source": [
    "print(weighted_mean_A,weighted_mean_B,weighted_mean_C)"
   ]
  },
  {
   "cell_type": "code",
   "execution_count": 10,
   "id": "d6061f0b",
   "metadata": {},
   "outputs": [],
   "source": [
    "pscores = df['pi']"
   ]
  },
  {
   "cell_type": "code",
   "execution_count": 11,
   "id": "7ef8b353",
   "metadata": {},
   "outputs": [
    {
     "data": {
      "image/png": "[encoded data removed]",
      "text/plain": [
       "<Figure size 640x480 with 1 Axes>"
      ]
     },
     "metadata": {},
     "output_type": "display_data"
    },
    {
     "name": "stdout",
     "output_type": "stream",
     "text": [
      "KS test statistic=0.5, p-value=0.6785714285714285\n",
      "AUC=0.8333333333333335\n"
     ]
    }
   ],
   "source": [
    "# 2. Assess Overlap\n",
    "import seaborn as sns\n",
    "from scipy.stats import ks_2samp\n",
    "from sklearn.metrics import roc_auc_score\n",
    "import matplotlib.pyplot as plt\n",
    "\n",
    "sns.kdeplot(pscores[df['Ri'] == 1], label='Observed')\n",
    "sns.kdeplot(pscores[df['Ri'] == 0], label='Missing')\n",
    "plt.xlabel('Propensity Score')\n",
    "plt.ylabel('Density')\n",
    "plt.legend()\n",
    "plt.show()\n",
    "\n",
    "# Also consider a statistical test for difference in distributions\n",
    "ks_stat, ks_pvalue = ks_2samp(pscores[df['Ri'] == 1], pscores[df['Ri'] == 0])\n",
    "print(f'KS test statistic={ks_stat}, p-value={ks_pvalue}')\n",
    "\n",
    "# 3. Model Specification\n",
    "# AUC should be close to 0.5 for a correctly specified model\n",
    "auc = roc_auc_score(df['Ri'], pscores)\n",
    "print(f'AUC={auc}')"
   ]
  },
  {
   "cell_type": "code",
   "execution_count": null,
   "id": "e4f6ad62",
   "metadata": {},
   "outputs": [],
   "source": []
  },
  {
   "cell_type": "code",
   "execution_count": 1,
   "id": "045446d7",
   "metadata": {},
   "outputs": [],
   "source": [
    "from causallib.datasets import load_nhefs\n",
    "from causallib.estimation import IPW\n",
    "from causallib.evaluation import evaluate\n",
    "from sklearn.linear_model import LogisticRegression\n",
    "from matplotlib import pyplot as plt"
   ]
  },
  {
   "cell_type": "code",
   "execution_count": 12,
   "id": "0833d71e",
   "metadata": {},
   "outputs": [
    {
     "data": {
      "text/html": [
       "<div>\n",
       "<style scoped>\n",
       "    .dataframe tbody tr th:only-of-type {\n",
       "        vertical-align: middle;\n",
       "    }\n",
       "\n",
       "    .dataframe tbody tr th {\n",
       "        vertical-align: top;\n",
       "    }\n",
       "\n",
       "    .dataframe thead th {\n",
       "        text-align: right;\n",
       "    }\n",
       "</style>\n",
       "<table border=\"1\" class=\"dataframe\">\n",
       "  <thead>\n",
       "    <tr style=\"text-align: right;\">\n",
       "      <th></th>\n",
       "      <th>age</th>\n",
       "      <th>race</th>\n",
       "      <th>sex</th>\n",
       "      <th>smokeintensity</th>\n",
       "      <th>smokeyrs</th>\n",
       "      <th>wt71</th>\n",
       "      <th>active_1</th>\n",
       "      <th>active_2</th>\n",
       "      <th>education_2</th>\n",
       "      <th>education_3</th>\n",
       "      <th>education_4</th>\n",
       "      <th>education_5</th>\n",
       "      <th>exercise_1</th>\n",
       "      <th>exercise_2</th>\n",
       "      <th>age^2</th>\n",
       "      <th>wt71^2</th>\n",
       "      <th>smokeintensity^2</th>\n",
       "      <th>smokeyrs^2</th>\n",
       "      <th>qsmk</th>\n",
       "      <th>wt82_71</th>\n",
       "    </tr>\n",
       "  </thead>\n",
       "  <tbody>\n",
       "    <tr>\n",
       "      <th>0</th>\n",
       "      <td>42</td>\n",
       "      <td>1</td>\n",
       "      <td>0</td>\n",
       "      <td>30</td>\n",
       "      <td>29</td>\n",
       "      <td>79.04</td>\n",
       "      <td>0</td>\n",
       "      <td>0</td>\n",
       "      <td>0</td>\n",
       "      <td>0</td>\n",
       "      <td>0</td>\n",
       "      <td>0</td>\n",
       "      <td>0</td>\n",
       "      <td>1</td>\n",
       "      <td>1764</td>\n",
       "      <td>6247.3216</td>\n",
       "      <td>900</td>\n",
       "      <td>841</td>\n",
       "      <td>0</td>\n",
       "      <td>-10.093960</td>\n",
       "    </tr>\n",
       "    <tr>\n",
       "      <th>1</th>\n",
       "      <td>36</td>\n",
       "      <td>0</td>\n",
       "      <td>0</td>\n",
       "      <td>20</td>\n",
       "      <td>24</td>\n",
       "      <td>58.63</td>\n",
       "      <td>0</td>\n",
       "      <td>0</td>\n",
       "      <td>1</td>\n",
       "      <td>0</td>\n",
       "      <td>0</td>\n",
       "      <td>0</td>\n",
       "      <td>0</td>\n",
       "      <td>0</td>\n",
       "      <td>1296</td>\n",
       "      <td>3437.4769</td>\n",
       "      <td>400</td>\n",
       "      <td>576</td>\n",
       "      <td>0</td>\n",
       "      <td>2.604970</td>\n",
       "    </tr>\n",
       "    <tr>\n",
       "      <th>2</th>\n",
       "      <td>56</td>\n",
       "      <td>1</td>\n",
       "      <td>1</td>\n",
       "      <td>20</td>\n",
       "      <td>26</td>\n",
       "      <td>56.81</td>\n",
       "      <td>0</td>\n",
       "      <td>0</td>\n",
       "      <td>1</td>\n",
       "      <td>0</td>\n",
       "      <td>0</td>\n",
       "      <td>0</td>\n",
       "      <td>0</td>\n",
       "      <td>1</td>\n",
       "      <td>3136</td>\n",
       "      <td>3227.3761</td>\n",
       "      <td>400</td>\n",
       "      <td>676</td>\n",
       "      <td>0</td>\n",
       "      <td>9.414486</td>\n",
       "    </tr>\n",
       "    <tr>\n",
       "      <th>3</th>\n",
       "      <td>68</td>\n",
       "      <td>1</td>\n",
       "      <td>0</td>\n",
       "      <td>3</td>\n",
       "      <td>53</td>\n",
       "      <td>59.42</td>\n",
       "      <td>1</td>\n",
       "      <td>0</td>\n",
       "      <td>0</td>\n",
       "      <td>0</td>\n",
       "      <td>0</td>\n",
       "      <td>0</td>\n",
       "      <td>0</td>\n",
       "      <td>1</td>\n",
       "      <td>4624</td>\n",
       "      <td>3530.7364</td>\n",
       "      <td>9</td>\n",
       "      <td>2809</td>\n",
       "      <td>0</td>\n",
       "      <td>4.990117</td>\n",
       "    </tr>\n",
       "    <tr>\n",
       "      <th>4</th>\n",
       "      <td>40</td>\n",
       "      <td>0</td>\n",
       "      <td>0</td>\n",
       "      <td>20</td>\n",
       "      <td>19</td>\n",
       "      <td>87.09</td>\n",
       "      <td>1</td>\n",
       "      <td>0</td>\n",
       "      <td>1</td>\n",
       "      <td>0</td>\n",
       "      <td>0</td>\n",
       "      <td>0</td>\n",
       "      <td>1</td>\n",
       "      <td>0</td>\n",
       "      <td>1600</td>\n",
       "      <td>7584.6681</td>\n",
       "      <td>400</td>\n",
       "      <td>361</td>\n",
       "      <td>0</td>\n",
       "      <td>4.989251</td>\n",
       "    </tr>\n",
       "  </tbody>\n",
       "</table>\n",
       "</div>"
      ],
      "text/plain": [
       "   age  race  sex  smokeintensity  smokeyrs   wt71  active_1  active_2  \\\n",
       "0   42     1    0              30        29  79.04         0         0   \n",
       "1   36     0    0              20        24  58.63         0         0   \n",
       "2   56     1    1              20        26  56.81         0         0   \n",
       "3   68     1    0               3        53  59.42         1         0   \n",
       "4   40     0    0              20        19  87.09         1         0   \n",
       "\n",
       "   education_2  education_3  education_4  education_5  exercise_1  exercise_2  \\\n",
       "0            0            0            0            0           0           1   \n",
       "1            1            0            0            0           0           0   \n",
       "2            1            0            0            0           0           1   \n",
       "3            0            0            0            0           0           1   \n",
       "4            1            0            0            0           1           0   \n",
       "\n",
       "   age^2     wt71^2  smokeintensity^2  smokeyrs^2  qsmk    wt82_71  \n",
       "0   1764  6247.3216               900         841     0 -10.093960  \n",
       "1   1296  3437.4769               400         576     0   2.604970  \n",
       "2   3136  3227.3761               400         676     0   9.414486  \n",
       "3   4624  3530.7364                 9        2809     0   4.990117  \n",
       "4   1600  7584.6681               400         361     0   4.989251  "
      ]
     },
     "execution_count": 12,
     "metadata": {},
     "output_type": "execute_result"
    }
   ],
   "source": [
    "data = load_nhefs()\n",
    "data.X.join(data.a).join(data.y).head()"
   ]
  },
  {
   "cell_type": "code",
   "execution_count": 20,
   "id": "e0004559",
   "metadata": {},
   "outputs": [
    {
     "data": {
      "text/plain": [
       "1163"
      ]
     },
     "execution_count": 20,
     "metadata": {},
     "output_type": "execute_result"
    }
   ],
   "source": [
    "(data.a==0).sum()"
   ]
  },
  {
   "cell_type": "code",
   "execution_count": 15,
   "id": "56553554",
   "metadata": {},
   "outputs": [
    {
     "data": {
      "text/html": [
       "<style>#sk-container-id-1 {color: black;background-color: white;}#sk-container-id-1 pre{padding: 0;}#sk-container-id-1 div.sk-toggleable {background-color: white;}#sk-container-id-1 label.sk-toggleable__label {cursor: pointer;display: block;width: 100%;margin-bottom: 0;padding: 0.3em;box-sizing: border-box;text-align: center;}#sk-container-id-1 label.sk-toggleable__label-arrow:before {content: \"▸\";float: left;margin-right: 0.25em;color: #696969;}#sk-container-id-1 label.sk-toggleable__label-arrow:hover:before {color: black;}#sk-container-id-1 div.sk-estimator:hover label.sk-toggleable__label-arrow:before {color: black;}#sk-container-id-1 div.sk-toggleable__content {max-height: 0;max-width: 0;overflow: hidden;text-align: left;background-color: #f0f8ff;}#sk-container-id-1 div.sk-toggleable__content pre {margin: 0.2em;color: black;border-radius: 0.25em;background-color: #f0f8ff;}#sk-container-id-1 input.sk-toggleable__control:checked~div.sk-toggleable__content {max-height: 200px;max-width: 100%;overflow: auto;}#sk-container-id-1 input.sk-toggleable__control:checked~label.sk-toggleable__label-arrow:before {content: \"▾\";}#sk-container-id-1 div.sk-estimator input.sk-toggleable__control:checked~label.sk-toggleable__label {background-color: #d4ebff;}#sk-container-id-1 div.sk-label input.sk-toggleable__control:checked~label.sk-toggleable__label {background-color: #d4ebff;}#sk-container-id-1 input.sk-hidden--visually {border: 0;clip: rect(1px 1px 1px 1px);clip: rect(1px, 1px, 1px, 1px);height: 1px;margin: -1px;overflow: hidden;padding: 0;position: absolute;width: 1px;}#sk-container-id-1 div.sk-estimator {font-family: monospace;background-color: #f0f8ff;border: 1px dotted black;border-radius: 0.25em;box-sizing: border-box;margin-bottom: 0.5em;}#sk-container-id-1 div.sk-estimator:hover {background-color: #d4ebff;}#sk-container-id-1 div.sk-parallel-item::after {content: \"\";width: 100%;border-bottom: 1px solid gray;flex-grow: 1;}#sk-container-id-1 div.sk-label:hover label.sk-toggleable__label {background-color: #d4ebff;}#sk-container-id-1 div.sk-serial::before {content: \"\";position: absolute;border-left: 1px solid gray;box-sizing: border-box;top: 0;bottom: 0;left: 50%;z-index: 0;}#sk-container-id-1 div.sk-serial {display: flex;flex-direction: column;align-items: center;background-color: white;padding-right: 0.2em;padding-left: 0.2em;position: relative;}#sk-container-id-1 div.sk-item {position: relative;z-index: 1;}#sk-container-id-1 div.sk-parallel {display: flex;align-items: stretch;justify-content: center;background-color: white;position: relative;}#sk-container-id-1 div.sk-item::before, #sk-container-id-1 div.sk-parallel-item::before {content: \"\";position: absolute;border-left: 1px solid gray;box-sizing: border-box;top: 0;bottom: 0;left: 50%;z-index: -1;}#sk-container-id-1 div.sk-parallel-item {display: flex;flex-direction: column;z-index: 1;position: relative;background-color: white;}#sk-container-id-1 div.sk-parallel-item:first-child::after {align-self: flex-end;width: 50%;}#sk-container-id-1 div.sk-parallel-item:last-child::after {align-self: flex-start;width: 50%;}#sk-container-id-1 div.sk-parallel-item:only-child::after {width: 0;}#sk-container-id-1 div.sk-dashed-wrapped {border: 1px dashed gray;margin: 0 0.4em 0.5em 0.4em;box-sizing: border-box;padding-bottom: 0.4em;background-color: white;}#sk-container-id-1 div.sk-label label {font-family: monospace;font-weight: bold;display: inline-block;line-height: 1.2em;}#sk-container-id-1 div.sk-label-container {text-align: center;}#sk-container-id-1 div.sk-container {/* jupyter's `normalize.less` sets `[hidden] { display: none; }` but bootstrap.min.css set `[hidden] { display: none !important; }` so we also need the `!important` here to be able to override the default hidden behavior on the sphinx rendered scikit-learn.org. See: https://github.com/scikit-learn/scikit-learn/issues/21755 */display: inline-block !important;position: relative;}#sk-container-id-1 div.sk-text-repr-fallback {display: none;}</style><div id=\"sk-container-id-1\" class=\"sk-top-container\"><div class=\"sk-text-repr-fallback\"><pre>IPW(clip_max=None, clip_min=None, use_stabilized=False, verbose=False,\n",
       "    learner=LogisticRegression(solver=&#x27;liblinear&#x27;))</pre><b>In a Jupyter environment, please rerun this cell to show the HTML representation or trust the notebook. <br />On GitHub, the HTML representation is unable to render, please try loading this page with nbviewer.org.</b></div><div class=\"sk-container\" hidden><div class=\"sk-item sk-dashed-wrapped\"><div class=\"sk-label-container\"><div class=\"sk-label sk-toggleable\"><input class=\"sk-toggleable__control sk-hidden--visually\" id=\"sk-estimator-id-1\" type=\"checkbox\" ><label for=\"sk-estimator-id-1\" class=\"sk-toggleable__label sk-toggleable__label-arrow\">IPW</label><div class=\"sk-toggleable__content\"><pre>IPW(clip_max=None, clip_min=None, use_stabilized=False, verbose=False,\n",
       "    learner=LogisticRegression(solver=&#x27;liblinear&#x27;))</pre></div></div></div><div class=\"sk-parallel\"><div class=\"sk-parallel-item\"><div class=\"sk-item\"><div class=\"sk-label-container\"><div class=\"sk-label sk-toggleable\"><input class=\"sk-toggleable__control sk-hidden--visually\" id=\"sk-estimator-id-2\" type=\"checkbox\" ><label for=\"sk-estimator-id-2\" class=\"sk-toggleable__label sk-toggleable__label-arrow\">learner: LogisticRegression</label><div class=\"sk-toggleable__content\"><pre>LogisticRegression(solver=&#x27;liblinear&#x27;)</pre></div></div></div><div class=\"sk-serial\"><div class=\"sk-item\"><div class=\"sk-estimator sk-toggleable\"><input class=\"sk-toggleable__control sk-hidden--visually\" id=\"sk-estimator-id-3\" type=\"checkbox\" ><label for=\"sk-estimator-id-3\" class=\"sk-toggleable__label sk-toggleable__label-arrow\">LogisticRegression</label><div class=\"sk-toggleable__content\"><pre>LogisticRegression(solver=&#x27;liblinear&#x27;)</pre></div></div></div></div></div></div></div></div></div></div>"
      ],
      "text/plain": [
       "IPW(clip_max=None, clip_min=None, use_stabilized=False, verbose=False,\n",
       "    learner=LogisticRegression(solver='liblinear'))"
      ]
     },
     "execution_count": 15,
     "metadata": {},
     "output_type": "execute_result"
    }
   ],
   "source": [
    "learner = LogisticRegression(solver=\"liblinear\")\n",
    "ipw = IPW(learner)\n",
    "ipw.fit(data.X, data.a)"
   ]
  },
  {
   "cell_type": "code",
   "execution_count": 21,
   "id": "8e08fb7b",
   "metadata": {},
   "outputs": [],
   "source": [
    "outcomes = ipw.estimate_population_outcome(data.X, data.a, data.y)"
   ]
  },
  {
   "cell_type": "code",
   "execution_count": 22,
   "id": "37c92bed",
   "metadata": {},
   "outputs": [
    {
     "data": {
      "text/plain": [
       "0    1.757172\n",
       "1    5.231682\n",
       "dtype: float64"
      ]
     },
     "execution_count": 22,
     "metadata": {},
     "output_type": "execute_result"
    }
   ],
   "source": [
    "outcomes"
   ]
  },
  {
   "cell_type": "code",
   "execution_count": null,
   "id": "e67fdf47",
   "metadata": {},
   "outputs": [],
   "source": []
  }
 ],
 "metadata": {
  "kernelspec": {
   "display_name": "Python 3 (ipykernel)",
   "language": "python",
   "name": "python3"
  },
  "language_info": {
   "codemirror_mode": {
    "name": "ipython",
    "version": 3
   },
   "file_extension": ".py",
   "mimetype": "text/x-python",
   "name": "python",
   "nbconvert_exporter": "python",
   "pygments_lexer": "ipython3",
   "version": "3.11.3"
  }
 },
 "nbformat": 4,
 "nbformat_minor": 5
}
